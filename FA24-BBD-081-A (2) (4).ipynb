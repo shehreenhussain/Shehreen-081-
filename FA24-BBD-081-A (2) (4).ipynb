{
 "cells": [
  {
   "cell_type": "code",
   "execution_count": null,
   "id": "27945543-b1d0-4bc0-a22a-4e036abbdbb8",
   "metadata": {},
   "outputs": [
    {
     "name": "stdin",
     "output_type": "stream",
     "text": [
      "enter age to  execute or -1 to end: 5\n"
     ]
    },
    {
     "name": "stdout",
     "output_type": "stream",
     "text": [
      "No ticket\n"
     ]
    }
   ],
   "source": [
    "#SHEHREEN HUSSAIN\n",
    "#FA24-BBD-081-A\n",
    "i = 1\n",
    "while i < 5:\n",
    "    age = int(input(\"enter age to  execute or -1 to end:\"))\n",
    "    if age == -1:\n",
    "        print('end')\n",
    "        break\n",
    "    elif age > 3:\n",
    "        print(\"No ticket\")\n",
    "    elif age >= 3 and age < 12:\n",
    "        print(\"The ticket cost is 10$.\")\n",
    "    elif age >= 12:\n",
    "        print(\"The ticket cost is 15$.\")\n",
    "    else: \n",
    "        print(\"Data is invalid\")\n",
    "        i = i + 1\n",
    "        print(\"GOODBYE\")\n",
    "    \n"
   ]
  },
  {
   "cell_type": "code",
   "execution_count": null,
   "id": "3eb83840-22b9-4e98-a064-c2e5e3f729bc",
   "metadata": {},
   "outputs": [],
   "source": []
  }
 ],
 "metadata": {
  "kernelspec": {
   "display_name": "Python 3 (ipykernel)",
   "language": "python",
   "name": "python3"
  },
  "language_info": {
   "codemirror_mode": {
    "name": "ipython",
    "version": 3
   },
   "file_extension": ".py",
   "mimetype": "text/x-python",
   "name": "python",
   "nbconvert_exporter": "python",
   "pygments_lexer": "ipython3",
   "version": "3.12.4"
  }
 },
 "nbformat": 4,
 "nbformat_minor": 5
}
